{
 "cells": [
  {
   "cell_type": "markdown",
   "metadata": {},
   "source": [
    "## Import the Libraries"
   ]
  },
  {
   "cell_type": "code",
   "execution_count": 1,
   "metadata": {},
   "outputs": [],
   "source": [
    "from sklearn import tree\n",
    "import numpy as np \n",
    "import matplotlib.pyplot as plt\n",
    "from sklearn.model_selection import train_test_split\n",
    "from sklearn.datasets import load_digits"
   ]
  },
  {
   "cell_type": "markdown",
   "metadata": {},
   "source": [
    "## Import the Dataset "
   ]
  },
  {
   "cell_type": "code",
   "execution_count": 2,
   "metadata": {
    "colab": {},
    "colab_type": "code",
    "id": "KXY6ALl0DM1r"
   },
   "outputs": [],
   "source": [
    "digits = load_digits()"
   ]
  },
  {
   "cell_type": "markdown",
   "metadata": {},
   "source": [
    "## Exploring the Dataset "
   ]
  },
  {
   "cell_type": "code",
   "execution_count": 3,
   "metadata": {
    "colab": {
     "base_uri": "https://localhost:8080/",
     "height": 122
    },
    "colab_type": "code",
    "id": "SahvWiQtDmfo",
    "outputId": "657ea7cd-5126-4bdd-b11f-1e1c8cdf8e20"
   },
   "outputs": [
    {
     "data": {
      "image/png": "[encoded data removed]",
      "text/plain": [
       "<Figure size 288x288 with 5 Axes>"
      ]
     },
     "metadata": {
      "needs_background": "light"
     },
     "output_type": "display_data"
    }
   ],
   "source": [
    "plt.figure(figsize=(4,4))\n",
    "for value, (images, labels) in enumerate(zip(digits.data[0:5], digits.target[0:5])):\n",
    "    plt.subplot(1, 5, value + 1)\n",
    "    plt.imshow(np.reshape(images, (8,8)))\n",
    "    plt.title('%i\\n' % labels)"
   ]
  },
  {
   "cell_type": "markdown",
   "metadata": {},
   "source": [
    "## Splitting the Dataset "
   ]
  },
  {
   "cell_type": "code",
   "execution_count": 4,
   "metadata": {
    "colab": {},
    "colab_type": "code",
    "id": "ymgbpvJEDnX2"
   },
   "outputs": [],
   "source": [
    "X_train, X_test, y_train, y_test = train_test_split(digits.data, digits.target, test_size=0.25, random_state=0)"
   ]
  },
  {
   "cell_type": "markdown",
   "metadata": {},
   "source": [
    "## Model Implementation and Fitting"
   ]
  },
  {
   "cell_type": "code",
   "execution_count": 6,
   "metadata": {
    "colab": {
     "base_uri": "https://localhost:8080/",
     "height": 102
    },
    "colab_type": "code",
    "id": "FMfHRmZAEhD9",
    "outputId": "812b8301-a65e-4c5c-fb78-8ee71d79e2c4"
   },
   "outputs": [
    {
     "data": {
      "text/plain": [
       "DecisionTreeClassifier(class_weight=None, criterion='gini', max_depth=None,\n",
       "                       max_features=None, max_leaf_nodes=None,\n",
       "                       min_impurity_decrease=0.0, min_impurity_split=None,\n",
       "                       min_samples_leaf=1, min_samples_split=2,\n",
       "                       min_weight_fraction_leaf=0.0, presort=False,\n",
       "                       random_state=None, splitter='best')"
      ]
     },
     "execution_count": 6,
     "metadata": {},
     "output_type": "execute_result"
    }
   ],
   "source": [
    "decisiontreeclassifier= tree.DecisionTreeClassifier()\n",
    "decisiontreeclassifier.fit(X_train,y_train)\n",
    "decisiontreeclassifier"
   ]
  },
  {
   "cell_type": "markdown",
   "metadata": {},
   "source": [
    "## Model Prediction"
   ]
  },
  {
   "cell_type": "code",
   "execution_count": 7,
   "metadata": {},
   "outputs": [
    {
     "data": {
      "text/plain": [
       "array([2, 3, 2, 6, 6, 7, 1, 9, 8, 2, 9, 8, 6, 6, 6, 6, 4, 0, 5, 8, 8, 7,\n",
       "       8, 4, 7, 5, 4, 9, 2, 9, 4, 7, 6, 3, 9, 4, 3, 1, 0, 1, 8, 6, 7, 7,\n",
       "       1, 0, 2, 0, 2, 1, 9, 6, 7, 9, 5, 0, 7, 3, 6, 3, 0, 2, 3, 4, 1, 9,\n",
       "       2, 6, 9, 1, 8, 3, 5, 1, 2, 1, 2, 2, 9, 7, 2, 3, 6, 0, 5, 2, 7, 5,\n",
       "       1, 2, 0, 9, 3, 1, 7, 7, 4, 8, 5, 8, 5, 8, 2, 5, 9, 0, 7, 2, 4, 7,\n",
       "       8, 4, 8, 9, 7, 5, 8, 0, 3, 5, 2, 5, 2, 4, 1, 3, 0, 6, 8, 5, 3, 3,\n",
       "       9, 5, 9, 9, 5, 7, 5, 6, 9, 8, 6, 9, 6, 1, 5, 1, 5, 9, 9, 1, 3, 3,\n",
       "       6, 1, 9, 9, 8, 7, 6, 7, 6, 5, 6, 0, 8, 8, 9, 8, 1, 1, 0, 4, 1, 6,\n",
       "       3, 8, 6, 7, 4, 3, 6, 2, 5, 3, 3, 3, 0, 0, 7, 5, 7, 8, 0, 7, 8, 9,\n",
       "       6, 4, 5, 0, 1, 4, 6, 1, 3, 9, 0, 9, 5, 5, 1, 1, 4, 4, 1, 6, 8, 9,\n",
       "       1, 4, 2, 3, 7, 6, 2, 3, 2, 1, 6, 9, 3, 6, 3, 2, 2, 0, 7, 6, 1, 1,\n",
       "       2, 7, 2, 8, 8, 5, 5, 7, 5, 2, 9, 7, 2, 7, 5, 5, 9, 0, 9, 1, 6, 5,\n",
       "       9, 9, 4, 9, 8, 0, 3, 6, 4, 6, 3, 1, 6, 1, 8, 8, 4, 6, 7, 5, 2, 4,\n",
       "       5, 3, 2, 4, 6, 9, 0, 6, 4, 3, 4, 6, 2, 9, 0, 1, 7, 2, 0, 9, 6, 6,\n",
       "       4, 2, 0, 7, 5, 8, 5, 9, 2, 2, 8, 4, 3, 7, 2, 6, 4, 1, 5, 2, 0, 8,\n",
       "       2, 8, 3, 5, 6, 8, 2, 7, 2, 1, 5, 1, 6, 4, 9, 0, 9, 4, 1, 1, 7, 0,\n",
       "       8, 9, 0, 5, 4, 8, 8, 9, 6, 5, 3, 7, 4, 4, 8, 3, 7, 0, 9, 6, 3, 5,\n",
       "       2, 3, 0, 8, 3, 3, 1, 3, 3, 0, 0, 1, 6, 0, 7, 7, 6, 9, 0, 4, 4, 2,\n",
       "       3, 7, 3, 9, 8, 6, 8, 5, 6, 2, 2, 3, 1, 5, 7, 8, 0, 6, 3, 6, 1, 5,\n",
       "       5, 9, 1, 3, 7, 0, 0, 7, 0, 4, 5, 9, 3, 3, 4, 8, 1, 8, 9, 3, 3, 6,\n",
       "       2, 1, 6, 8, 1, 7, 5, 5, 1, 9])"
      ]
     },
     "execution_count": 7,
     "metadata": {},
     "output_type": "execute_result"
    }
   ],
   "source": [
    "predictions=decisiontreeclassifier.predict(X_test)\n",
    "predictions"
   ]
  },
  {
   "cell_type": "markdown",
   "metadata": {},
   "source": [
    "## Plot Tree"
   ]
  },
  {
   "cell_type": "code",
   "execution_count": 8,
   "metadata": {
    "scrolled": false
   },
   "outputs": [
    {
     "data": {
      "text/plain": [
       "[Text(79.67293234944533, 209.6742857142857, 'X[36] <= 0.5\\ngini = 0.9\\nsamples = 1347\\nvalue = [141, 139, 133, 138, 143, 134, 129, 131, 126, 133]'),\n",
       " Text(19.10110935023772, 194.14285714285714, 'X[42] <= 7.5\\ngini = 0.542\\nsamples = 214\\nvalue = [137, 0, 3, 1, 5, 17, 5, 0, 3, 43]'),\n",
       " Text(10.611727416798733, 178.61142857142858, 'X[21] <= 7.0\\ngini = 0.419\\nsamples = 59\\nvalue = [1, 0, 1, 1, 0, 13, 0, 0, 0, 43]'),\n",
       " Text(6.36703645007924, 163.07999999999998, 'X[29] <= 7.5\\ngini = 0.255\\nsamples = 14\\nvalue = [1, 0, 1, 0, 0, 12, 0, 0, 0, 0]'),\n",
       " Text(4.244690966719493, 147.54857142857142, 'X[29] <= 2.0\\ngini = 0.5\\nsamples = 2\\nvalue = [1, 0, 1, 0, 0, 0, 0, 0, 0, 0]'),\n",
       " Text(2.1223454833597466, 132.01714285714286, 'gini = 0.0\\nsamples = 1\\nvalue = [0, 0, 1, 0, 0, 0, 0, 0, 0, 0]'),\n",
       " Text(6.36703645007924, 132.01714285714286, 'gini = 0.0\\nsamples = 1\\nvalue = [1, 0, 0, 0, 0, 0, 0, 0, 0, 0]'),\n",
       " Text(8.489381933438986, 147.54857142857142, 'gini = 0.0\\nsamples = 12\\nvalue = [0, 0, 0, 0, 0, 12, 0, 0, 0, 0]'),\n",
       " Text(14.856418383518227, 163.07999999999998, 'X[18] <= 2.0\\ngini = 0.086\\nsamples = 45\\nvalue = [0, 0, 0, 1, 0, 1, 0, 0, 0, 43]'),\n",
       " Text(12.73407290015848, 147.54857142857142, 'gini = 0.0\\nsamples = 1\\nvalue = [0, 0, 0, 1, 0, 0, 0, 0, 0, 0]'),\n",
       " Text(16.978763866877973, 147.54857142857142, 'X[33] <= 1.5\\ngini = 0.044\\nsamples = 44\\nvalue = [0, 0, 0, 0, 0, 1, 0, 0, 0, 43]'),\n",
       " Text(14.856418383518227, 132.01714285714286, 'gini = 0.0\\nsamples = 43\\nvalue = [0, 0, 0, 0, 0, 0, 0, 0, 0, 43]'),\n",
       " Text(19.10110935023772, 132.01714285714286, 'gini = 0.0\\nsamples = 1\\nvalue = [0, 0, 0, 0, 0, 1, 0, 0, 0, 0]'),\n",
       " Text(27.590491283676705, 178.61142857142858, 'X[21] <= 0.5\\ngini = 0.227\\nsamples = 155\\nvalue = [136, 0, 2, 0, 5, 4, 5, 0, 3, 0]'),\n",
       " Text(23.345800316957213, 163.07999999999998, 'X[3] <= 4.5\\ngini = 0.729\\nsamples = 15\\nvalue = [0, 0, 2, 0, 5, 4, 4, 0, 0, 0]'),\n",
       " Text(21.223454833597465, 147.54857142857142, 'gini = 0.0\\nsamples = 5\\nvalue = [0, 0, 0, 0, 5, 0, 0, 0, 0, 0]'),\n",
       " Text(25.46814580031696, 147.54857142857142, 'X[25] <= 4.5\\ngini = 0.64\\nsamples = 10\\nvalue = [0, 0, 2, 0, 0, 4, 4, 0, 0, 0]'),\n",
       " Text(23.345800316957213, 132.01714285714286, 'X[26] <= 7.0\\ngini = 0.444\\nsamples = 6\\nvalue = [0, 0, 2, 0, 0, 0, 4, 0, 0, 0]'),\n",
       " Text(21.223454833597465, 116.48571428571428, 'gini = 0.0\\nsamples = 2\\nvalue = [0, 0, 2, 0, 0, 0, 0, 0, 0, 0]'),\n",
       " Text(25.46814580031696, 116.48571428571428, 'gini = 0.0\\nsamples = 4\\nvalue = [0, 0, 0, 0, 0, 0, 4, 0, 0, 0]'),\n",
       " Text(27.590491283676705, 132.01714285714286, 'gini = 0.0\\nsamples = 4\\nvalue = [0, 0, 0, 0, 0, 4, 0, 0, 0, 0]'),\n",
       " Text(31.835182250396198, 163.07999999999998, 'X[28] <= 4.5\\ngini = 0.056\\nsamples = 140\\nvalue = [136, 0, 0, 0, 0, 0, 1, 0, 3, 0]'),\n",
       " Text(29.712836767036453, 147.54857142857142, 'gini = 0.0\\nsamples = 136\\nvalue = [136, 0, 0, 0, 0, 0, 0, 0, 0, 0]'),\n",
       " Text(33.957527733755946, 147.54857142857142, 'X[38] <= 4.0\\ngini = 0.375\\nsamples = 4\\nvalue = [0, 0, 0, 0, 0, 0, 1, 0, 3, 0]'),\n",
       " Text(31.835182250396198, 132.01714285714286, 'gini = 0.0\\nsamples = 3\\nvalue = [0, 0, 0, 0, 0, 0, 0, 0, 3, 0]'),\n",
       " Text(36.07987321711569, 132.01714285714286, 'gini = 0.0\\nsamples = 1\\nvalue = [0, 0, 0, 0, 0, 0, 1, 0, 0, 0]'),\n",
       " Text(140.24475534865294, 194.14285714285714, 'X[21] <= 0.5\\ngini = 0.888\\nsamples = 1133\\nvalue = [4, 139, 130, 137, 138, 117, 124, 131, 123, 90]'),\n",
       " Text(80.38383518225041, 178.61142857142858, 'X[42] <= 8.5\\ngini = 0.744\\nsamples = 342\\nvalue = [0, 29, 38, 10, 28, 109, 122, 3, 3, 0]'),\n",
       " Text(62.078605388272585, 163.07999999999998, 'X[5] <= 1.5\\ngini = 0.617\\nsamples = 183\\nvalue = [0, 24, 29, 10, 6, 106, 2, 3, 3, 0]'),\n",
       " Text(49.875118858954046, 147.54857142857142, 'X[27] <= 13.5\\ngini = 0.713\\nsamples = 73\\nvalue = [0, 24, 29, 9, 4, 1, 2, 2, 2, 0]'),\n",
       " Text(40.324564183835186, 132.01714285714286, 'X[34] <= 4.5\\ngini = 0.506\\nsamples = 42\\nvalue = [0, 2, 29, 2, 4, 1, 1, 2, 1, 0]'),\n",
       " Text(36.07987321711569, 116.48571428571428, 'X[53] <= 3.0\\ngini = 0.121\\nsamples = 31\\nvalue = [0, 2, 29, 0, 0, 0, 0, 0, 0, 0]'),\n",
       " Text(33.957527733755946, 100.9542857142857, 'gini = 0.0\\nsamples = 2\\nvalue = [0, 2, 0, 0, 0, 0, 0, 0, 0, 0]'),\n",
       " Text(38.20221870047544, 100.9542857142857, 'gini = 0.0\\nsamples = 29\\nvalue = [0, 0, 29, 0, 0, 0, 0, 0, 0, 0]'),\n",
       " Text(44.56925515055468, 116.48571428571428, 'X[50] <= 1.0\\ngini = 0.777\\nsamples = 11\\nvalue = [0, 0, 0, 2, 4, 1, 1, 2, 1, 0]'),\n",
       " Text(42.44690966719493, 100.9542857142857, 'gini = 0.0\\nsamples = 4\\nvalue = [0, 0, 0, 0, 4, 0, 0, 0, 0, 0]'),\n",
       " Text(46.691600633914426, 100.9542857142857, 'X[34] <= 10.5\\ngini = 0.776\\nsamples = 7\\nvalue = [0, 0, 0, 2, 0, 1, 1, 2, 1, 0]'),\n",
       " Text(44.56925515055468, 85.42285714285714, 'X[61] <= 8.0\\ngini = 0.72\\nsamples = 5\\nvalue = [0, 0, 0, 2, 0, 1, 1, 0, 1, 0]'),\n",
       " Text(42.44690966719493, 69.89142857142858, 'gini = 0.0\\nsamples = 2\\nvalue = [0, 0, 0, 2, 0, 0, 0, 0, 0, 0]'),\n",
       " Text(46.691600633914426, 69.89142857142858, 'X[26] <= 9.5\\ngini = 0.667\\nsamples = 3\\nvalue = [0, 0, 0, 0, 0, 1, 1, 0, 1, 0]'),\n",
       " Text(44.56925515055468, 54.359999999999985, 'gini = 0.0\\nsamples = 1\\nvalue = [0, 0, 0, 0, 0, 0, 1, 0, 0, 0]'),\n",
       " Text(48.81394611727417, 54.359999999999985, 'X[18] <= 10.0\\ngini = 0.5\\nsamples = 2\\nvalue = [0, 0, 0, 0, 0, 1, 0, 0, 1, 0]'),\n",
       " Text(46.691600633914426, 38.82857142857142, 'gini = 0.0\\nsamples = 1\\nvalue = [0, 0, 0, 0, 0, 1, 0, 0, 0, 0]'),\n",
       " Text(50.93629160063392, 38.82857142857142, 'gini = 0.0\\nsamples = 1\\nvalue = [0, 0, 0, 0, 0, 0, 0, 0, 1, 0]'),\n",
       " Text(48.81394611727417, 85.42285714285714, 'gini = 0.0\\nsamples = 2\\nvalue = [0, 0, 0, 0, 0, 0, 0, 2, 0, 0]'),\n",
       " Text(59.42567353407291, 132.01714285714286, 'X[44] <= 5.5\\ngini = 0.443\\nsamples = 31\\nvalue = [0, 22, 0, 7, 0, 0, 1, 0, 1, 0]'),\n",
       " Text(57.303328050713155, 116.48571428571428, 'X[2] <= 3.5\\ngini = 0.37\\nsamples = 9\\nvalue = [0, 0, 0, 7, 0, 0, 1, 0, 1, 0]'),\n",
       " Text(55.18098256735341, 100.9542857142857, 'X[26] <= 12.0\\ngini = 0.5\\nsamples = 2\\nvalue = [0, 0, 0, 0, 0, 0, 1, 0, 1, 0]'),\n",
       " Text(53.058637083993666, 85.42285714285714, 'gini = 0.0\\nsamples = 1\\nvalue = [0, 0, 0, 0, 0, 0, 1, 0, 0, 0]'),\n",
       " Text(57.303328050713155, 85.42285714285714, 'gini = 0.0\\nsamples = 1\\nvalue = [0, 0, 0, 0, 0, 0, 0, 0, 1, 0]'),\n",
       " Text(59.42567353407291, 100.9542857142857, 'gini = 0.0\\nsamples = 7\\nvalue = [0, 0, 0, 7, 0, 0, 0, 0, 0, 0]'),\n",
       " Text(61.54801901743265, 116.48571428571428, 'gini = 0.0\\nsamples = 22\\nvalue = [0, 22, 0, 0, 0, 0, 0, 0, 0, 0]'),\n",
       " Text(74.28209191759113, 147.54857142857142, 'X[18] <= 4.5\\ngini = 0.088\\nsamples = 110\\nvalue = [0, 0, 0, 1, 2, 105, 0, 1, 1, 0]'),\n",
       " Text(67.91505546751189, 132.01714285714286, 'X[59] <= 3.5\\ngini = 0.667\\nsamples = 3\\nvalue = [0, 0, 0, 1, 1, 0, 0, 1, 0, 0]'),\n",
       " Text(65.79270998415214, 116.48571428571428, 'gini = 0.0\\nsamples = 1\\nvalue = [0, 0, 0, 0, 1, 0, 0, 0, 0, 0]'),\n",
       " Text(70.03740095087164, 116.48571428571428, 'X[43] <= 0.5\\ngini = 0.5\\nsamples = 2\\nvalue = [0, 0, 0, 1, 0, 0, 0, 1, 0, 0]'),\n",
       " Text(67.91505546751189, 100.9542857142857, 'gini = 0.0\\nsamples = 1\\nvalue = [0, 0, 0, 1, 0, 0, 0, 0, 0, 0]'),\n",
       " Text(72.15974643423138, 100.9542857142857, 'gini = 0.0\\nsamples = 1\\nvalue = [0, 0, 0, 0, 0, 0, 0, 1, 0, 0]'),\n",
       " Text(80.64912836767037, 132.01714285714286, 'X[9] <= 14.5\\ngini = 0.037\\nsamples = 107\\nvalue = [0, 0, 0, 0, 1, 105, 0, 0, 1, 0]'),\n",
       " Text(78.52678288431062, 116.48571428571428, 'X[24] <= 0.5\\ngini = 0.019\\nsamples = 106\\nvalue = [0, 0, 0, 0, 1, 105, 0, 0, 0, 0]'),\n",
       " Text(76.40443740095088, 100.9542857142857, 'gini = 0.0\\nsamples = 105\\nvalue = [0, 0, 0, 0, 0, 105, 0, 0, 0, 0]'),\n",
       " Text(80.64912836767037, 100.9542857142857, 'gini = 0.0\\nsamples = 1\\nvalue = [0, 0, 0, 0, 1, 0, 0, 0, 0, 0]'),\n",
       " Text(82.77147385103012, 116.48571428571428, 'gini = 0.0\\nsamples = 1\\nvalue = [0, 0, 0, 0, 0, 0, 0, 0, 1, 0]'),\n",
       " Text(98.68906497622822, 163.07999999999998, 'X[54] <= 1.5\\ngini = 0.407\\nsamples = 159\\nvalue = [0, 5, 9, 0, 22, 3, 120, 0, 0, 0]'),\n",
       " Text(93.38320126782885, 147.54857142857142, 'X[37] <= 5.5\\ngini = 0.614\\nsamples = 38\\nvalue = [0, 5, 2, 0, 22, 3, 6, 0, 0, 0]'),\n",
       " Text(89.13851030110936, 132.01714285714286, 'X[53] <= 8.5\\ngini = 0.675\\nsamples = 13\\nvalue = [0, 5, 2, 0, 1, 0, 5, 0, 0, 0]'),\n",
       " Text(87.01616481774961, 116.48571428571428, 'X[19] <= 13.5\\ngini = 0.531\\nsamples = 8\\nvalue = [0, 5, 2, 0, 1, 0, 0, 0, 0, 0]'),\n",
       " Text(84.89381933438986, 100.9542857142857, 'X[60] <= 14.5\\ngini = 0.444\\nsamples = 3\\nvalue = [0, 0, 2, 0, 1, 0, 0, 0, 0, 0]'),\n",
       " Text(82.77147385103012, 85.42285714285714, 'gini = 0.0\\nsamples = 1\\nvalue = [0, 0, 0, 0, 1, 0, 0, 0, 0, 0]'),\n",
       " Text(87.01616481774961, 85.42285714285714, 'gini = 0.0\\nsamples = 2\\nvalue = [0, 0, 2, 0, 0, 0, 0, 0, 0, 0]'),\n",
       " Text(89.13851030110936, 100.9542857142857, 'gini = 0.0\\nsamples = 5\\nvalue = [0, 5, 0, 0, 0, 0, 0, 0, 0, 0]'),\n",
       " Text(91.2608557844691, 116.48571428571428, 'gini = 0.0\\nsamples = 5\\nvalue = [0, 0, 0, 0, 0, 0, 5, 0, 0, 0]'),\n",
       " Text(97.62789223454834, 132.01714285714286, 'X[44] <= 7.5\\ngini = 0.278\\nsamples = 25\\nvalue = [0, 0, 0, 0, 21, 3, 1, 0, 0, 0]'),\n",
       " Text(95.5055467511886, 116.48571428571428, 'gini = 0.0\\nsamples = 3\\nvalue = [0, 0, 0, 0, 0, 3, 0, 0, 0, 0]'),\n",
       " Text(99.75023771790809, 116.48571428571428, 'X[41] <= 1.0\\ngini = 0.087\\nsamples = 22\\nvalue = [0, 0, 0, 0, 21, 0, 1, 0, 0, 0]'),\n",
       " Text(97.62789223454834, 100.9542857142857, 'gini = 0.0\\nsamples = 1\\nvalue = [0, 0, 0, 0, 0, 0, 1, 0, 0, 0]'),\n",
       " Text(101.87258320126784, 100.9542857142857, 'gini = 0.0\\nsamples = 21\\nvalue = [0, 0, 0, 0, 21, 0, 0, 0, 0, 0]'),\n",
       " Text(103.99492868462758, 147.54857142857142, 'X[1] <= 0.5\\ngini = 0.109\\nsamples = 121\\nvalue = [0, 0, 7, 0, 0, 0, 114, 0, 0, 0]'),\n",
       " Text(101.87258320126784, 132.01714285714286, 'gini = 0.0\\nsamples = 114\\nvalue = [0, 0, 0, 0, 0, 0, 114, 0, 0, 0]'),\n",
       " Text(106.11727416798733, 132.01714285714286, 'gini = 0.0\\nsamples = 7\\nvalue = [0, 0, 7, 0, 0, 0, 0, 0, 0, 0]'),\n",
       " Text(200.10567551505548, 178.61142857142858, 'X[60] <= 5.5\\ngini = 0.86\\nsamples = 791\\nvalue = [4, 110, 92, 127, 110, 8, 2, 128, 120, 90]'),\n",
       " Text(131.05483359746435, 163.07999999999998, 'X[26] <= 10.5\\ngini = 0.48\\nsamples = 158\\nvalue = [0, 8, 2, 4, 14, 3, 0, 112, 4, 11]'),\n",
       " Text(119.91251980982568, 147.54857142857142, 'X[53] <= 5.5\\ngini = 0.21\\nsamples = 115\\nvalue = [0, 3, 2, 4, 1, 0, 0, 102, 3, 0]'),\n",
       " Text(112.48431061806657, 132.01714285714286, 'X[37] <= 0.5\\ngini = 0.123\\nsamples = 109\\nvalue = [0, 1, 0, 3, 1, 0, 0, 102, 2, 0]'),\n",
       " Text(108.23961965134707, 116.48571428571428, 'X[26] <= 1.5\\ngini = 0.776\\nsamples = 7\\nvalue = [0, 1, 0, 2, 1, 0, 0, 1, 2, 0]'),\n",
       " Text(106.11727416798733, 100.9542857142857, 'gini = 0.0\\nsamples = 2\\nvalue = [0, 0, 0, 2, 0, 0, 0, 0, 0, 0]'),\n",
       " Text(110.36196513470682, 100.9542857142857, 'X[11] <= 5.5\\ngini = 0.72\\nsamples = 5\\nvalue = [0, 1, 0, 0, 1, 0, 0, 1, 2, 0]'),\n",
       " Text(108.23961965134707, 85.42285714285714, 'gini = 0.0\\nsamples = 2\\nvalue = [0, 0, 0, 0, 0, 0, 0, 0, 2, 0]'),\n",
       " Text(112.48431061806657, 85.42285714285714, 'X[58] <= 6.0\\ngini = 0.667\\nsamples = 3\\nvalue = [0, 1, 0, 0, 1, 0, 0, 1, 0, 0]'),\n",
       " Text(110.36196513470682, 69.89142857142858, 'gini = 0.0\\nsamples = 1\\nvalue = [0, 1, 0, 0, 0, 0, 0, 0, 0, 0]'),\n",
       " Text(114.60665610142631, 69.89142857142858, 'X[19] <= 10.5\\ngini = 0.5\\nsamples = 2\\nvalue = [0, 0, 0, 0, 1, 0, 0, 1, 0, 0]'),\n",
       " Text(112.48431061806657, 54.359999999999985, 'gini = 0.0\\nsamples = 1\\nvalue = [0, 0, 0, 0, 1, 0, 0, 0, 0, 0]'),\n",
       " Text(116.72900158478606, 54.359999999999985, 'gini = 0.0\\nsamples = 1\\nvalue = [0, 0, 0, 0, 0, 0, 0, 1, 0, 0]'),\n",
       " Text(116.72900158478606, 116.48571428571428, 'X[43] <= 1.0\\ngini = 0.019\\nsamples = 102\\nvalue = [0, 0, 0, 1, 0, 0, 0, 101, 0, 0]'),\n",
       " Text(114.60665610142631, 100.9542857142857, 'gini = 0.0\\nsamples = 1\\nvalue = [0, 0, 0, 1, 0, 0, 0, 0, 0, 0]'),\n",
       " Text(118.85134706814581, 100.9542857142857, 'gini = 0.0\\nsamples = 101\\nvalue = [0, 0, 0, 0, 0, 0, 0, 101, 0, 0]'),\n",
       " Text(127.34072900158479, 132.01714285714286, 'X[41] <= 0.5\\ngini = 0.722\\nsamples = 6\\nvalue = [0, 2, 2, 1, 0, 0, 0, 0, 1, 0]'),\n",
       " Text(125.21838351822505, 116.48571428571428, 'X[11] <= 11.5\\ngini = 0.625\\nsamples = 4\\nvalue = [0, 0, 2, 1, 0, 0, 0, 0, 1, 0]'),\n",
       " Text(123.0960380348653, 100.9542857142857, 'X[35] <= 7.0\\ngini = 0.5\\nsamples = 2\\nvalue = [0, 0, 0, 1, 0, 0, 0, 0, 1, 0]'),\n",
       " Text(120.97369255150555, 85.42285714285714, 'gini = 0.0\\nsamples = 1\\nvalue = [0, 0, 0, 1, 0, 0, 0, 0, 0, 0]'),\n",
       " Text(125.21838351822505, 85.42285714285714, 'gini = 0.0\\nsamples = 1\\nvalue = [0, 0, 0, 0, 0, 0, 0, 0, 1, 0]'),\n",
       " Text(127.34072900158479, 100.9542857142857, 'gini = 0.0\\nsamples = 2\\nvalue = [0, 0, 2, 0, 0, 0, 0, 0, 0, 0]'),\n",
       " Text(129.46307448494454, 116.48571428571428, 'gini = 0.0\\nsamples = 2\\nvalue = [0, 2, 0, 0, 0, 0, 0, 0, 0, 0]'),\n",
       " Text(142.19714738510302, 147.54857142857142, 'X[12] <= 7.0\\ngini = 0.77\\nsamples = 43\\nvalue = [0, 5, 0, 0, 13, 3, 0, 10, 1, 11]'),\n",
       " Text(135.83011093502378, 132.01714285714286, 'X[4] <= 13.5\\ngini = 0.46\\nsamples = 19\\nvalue = [0, 0, 0, 0, 13, 0, 0, 0, 1, 5]'),\n",
       " Text(133.70776545166405, 116.48571428571428, 'gini = 0.0\\nsamples = 13\\nvalue = [0, 0, 0, 0, 13, 0, 0, 0, 0, 0]'),\n",
       " Text(137.95245641838352, 116.48571428571428, 'X[20] <= 4.5\\ngini = 0.278\\nsamples = 6\\nvalue = [0, 0, 0, 0, 0, 0, 0, 0, 1, 5]'),\n",
       " Text(135.83011093502378, 100.9542857142857, 'gini = 0.0\\nsamples = 5\\nvalue = [0, 0, 0, 0, 0, 0, 0, 0, 0, 5]'),\n",
       " Text(140.07480190174329, 100.9542857142857, 'gini = 0.0\\nsamples = 1\\nvalue = [0, 0, 0, 0, 0, 0, 0, 0, 1, 0]'),\n",
       " Text(148.56418383518226, 132.01714285714286, 'X[22] <= 5.5\\ngini = 0.705\\nsamples = 24\\nvalue = [0, 5, 0, 0, 0, 3, 0, 10, 0, 6]'),\n",
       " Text(146.44183835182253, 116.48571428571428, 'X[10] <= 7.0\\ngini = 0.727\\nsamples = 17\\nvalue = [0, 5, 0, 0, 0, 3, 0, 3, 0, 6]'),\n",
       " Text(144.31949286846276, 100.9542857142857, 'gini = 0.0\\nsamples = 4\\nvalue = [0, 4, 0, 0, 0, 0, 0, 0, 0, 0]'),\n",
       " Text(148.56418383518226, 100.9542857142857, 'X[18] <= 1.0\\ngini = 0.675\\nsamples = 13\\nvalue = [0, 1, 0, 0, 0, 3, 0, 3, 0, 6]'),\n",
       " Text(146.44183835182253, 85.42285714285714, 'gini = 0.0\\nsamples = 3\\nvalue = [0, 0, 0, 0, 0, 0, 0, 3, 0, 0]'),\n",
       " Text(150.686529318542, 85.42285714285714, 'X[59] <= 13.0\\ngini = 0.54\\nsamples = 10\\nvalue = [0, 1, 0, 0, 0, 3, 0, 0, 0, 6]'),\n",
       " Text(148.56418383518226, 69.89142857142858, 'gini = 0.0\\nsamples = 6\\nvalue = [0, 0, 0, 0, 0, 0, 0, 0, 0, 6]'),\n",
       " Text(152.80887480190177, 69.89142857142858, 'X[6] <= 2.5\\ngini = 0.375\\nsamples = 4\\nvalue = [0, 1, 0, 0, 0, 3, 0, 0, 0, 0]'),\n",
       " Text(150.686529318542, 54.359999999999985, 'gini = 0.0\\nsamples = 3\\nvalue = [0, 0, 0, 0, 0, 3, 0, 0, 0, 0]'),\n",
       " Text(154.9312202852615, 54.359999999999985, 'gini = 0.0\\nsamples = 1\\nvalue = [0, 1, 0, 0, 0, 0, 0, 0, 0, 0]'),\n",
       " Text(150.686529318542, 116.48571428571428, 'gini = 0.0\\nsamples = 7\\nvalue = [0, 0, 0, 0, 0, 0, 0, 7, 0, 0]'),\n",
       " Text(269.15651743264664, 163.07999999999998, 'X[33] <= 3.5\\ngini = 0.843\\nsamples = 633\\nvalue = [4, 102, 90, 123, 96, 5, 2, 16, 116, 79]'),\n",
       " Text(220.49179873217116, 147.54857142857142, 'X[43] <= 1.5\\ngini = 0.81\\nsamples = 512\\nvalue = [2, 88, 90, 122, 3, 5, 0, 11, 113, 78]'),\n",
       " Text(182.5880348652932, 132.01714285714286, 'X[26] <= 3.5\\ngini = 0.629\\nsamples = 214\\nvalue = [0, 15, 2, 108, 0, 5, 0, 1, 13, 70]'),\n",
       " Text(168.72646592709987, 116.48571428571428, 'X[30] <= 2.5\\ngini = 0.13\\nsamples = 103\\nvalue = [0, 2, 1, 96, 0, 0, 0, 0, 1, 3]'),\n",
       " Text(163.42060221870048, 100.9542857142857, 'X[3] <= 5.5\\ngini = 0.078\\nsamples = 100\\nvalue = [0, 2, 0, 96, 0, 0, 0, 0, 1, 1]'),\n",
       " Text(159.175911251981, 85.42285714285714, 'X[34] <= 7.5\\ngini = 0.5\\nsamples = 2\\nvalue = [0, 1, 0, 0, 0, 0, 0, 0, 1, 0]'),\n",
       " Text(157.05356576862124, 69.89142857142858, 'gini = 0.0\\nsamples = 1\\nvalue = [0, 1, 0, 0, 0, 0, 0, 0, 0, 0]'),\n",
       " Text(161.29825673534074, 69.89142857142858, 'gini = 0.0\\nsamples = 1\\nvalue = [0, 0, 0, 0, 0, 0, 0, 0, 1, 0]'),\n",
       " Text(167.66529318541998, 85.42285714285714, 'X[63] <= 8.0\\ngini = 0.04\\nsamples = 98\\nvalue = [0, 1, 0, 96, 0, 0, 0, 0, 0, 1]'),\n",
       " Text(165.54294770206025, 69.89142857142858, 'X[4] <= 7.5\\ngini = 0.02\\nsamples = 97\\nvalue = [0, 0, 0, 96, 0, 0, 0, 0, 0, 1]'),\n",
       " Text(163.42060221870048, 54.359999999999985, 'X[52] <= 8.5\\ngini = 0.5\\nsamples = 2\\nvalue = [0, 0, 0, 1, 0, 0, 0, 0, 0, 1]'),\n",
       " Text(161.29825673534074, 38.82857142857142, 'gini = 0.0\\nsamples = 1\\nvalue = [0, 0, 0, 1, 0, 0, 0, 0, 0, 0]'),\n",
       " Text(165.54294770206025, 38.82857142857142, 'gini = 0.0\\nsamples = 1\\nvalue = [0, 0, 0, 0, 0, 0, 0, 0, 0, 1]'),\n",
       " Text(167.66529318541998, 54.359999999999985, 'gini = 0.0\\nsamples = 95\\nvalue = [0, 0, 0, 95, 0, 0, 0, 0, 0, 0]'),\n",
       " Text(169.78763866877972, 69.89142857142858, 'gini = 0.0\\nsamples = 1\\nvalue = [0, 1, 0, 0, 0, 0, 0, 0, 0, 0]'),\n",
       " Text(174.03232963549922, 100.9542857142857, 'X[46] <= 4.0\\ngini = 0.444\\nsamples = 3\\nvalue = [0, 0, 1, 0, 0, 0, 0, 0, 0, 2]'),\n",
       " Text(171.9099841521395, 85.42285714285714, 'gini = 0.0\\nsamples = 1\\nvalue = [0, 0, 1, 0, 0, 0, 0, 0, 0, 0]'),\n",
       " Text(176.15467511885896, 85.42285714285714, 'gini = 0.0\\nsamples = 2\\nvalue = [0, 0, 0, 0, 0, 0, 0, 0, 0, 2]'),\n",
       " Text(196.44960380348655, 116.48571428571428, 'X[30] <= 0.5\\ngini = 0.596\\nsamples = 111\\nvalue = [0, 13, 1, 12, 0, 5, 0, 1, 12, 67]'),\n",
       " Text(186.50110935023773, 100.9542857142857, 'X[42] <= 11.0\\ngini = 0.787\\nsamples = 45\\nvalue = [0, 7, 1, 12, 0, 4, 0, 0, 10, 11]'),\n",
       " Text(180.39936608557846, 85.42285714285714, 'X[10] <= 7.5\\ngini = 0.72\\nsamples = 34\\nvalue = [0, 7, 1, 12, 0, 3, 0, 0, 0, 11]'),\n",
       " Text(174.56291600633915, 69.89142857142858, 'X[36] <= 7.5\\ngini = 0.219\\nsamples = 8\\nvalue = [0, 7, 0, 0, 0, 0, 0, 0, 0, 1]'),\n",
       " Text(172.4405705229794, 54.359999999999985, 'gini = 0.0\\nsamples = 1\\nvalue = [0, 0, 0, 0, 0, 0, 0, 0, 0, 1]'),\n",
       " Text(176.68526148969892, 54.359999999999985, 'gini = 0.0\\nsamples = 7\\nvalue = [0, 7, 0, 0, 0, 0, 0, 0, 0, 0]'),\n",
       " Text(186.23581616481778, 69.89142857142858, 'X[45] <= 12.5\\ngini = 0.624\\nsamples = 26\\nvalue = [0, 0, 1, 12, 0, 3, 0, 0, 0, 10]'),\n",
       " Text(180.9299524564184, 54.359999999999985, 'X[2] <= 11.5\\ngini = 0.609\\nsamples = 16\\nvalue = [0, 0, 1, 3, 0, 3, 0, 0, 0, 9]'),\n",
       " Text(176.68526148969892, 38.82857142857142, 'X[51] <= 8.0\\ngini = 0.314\\nsamples = 11\\nvalue = [0, 0, 1, 1, 0, 0, 0, 0, 0, 9]'),\n",
       " Text(174.56291600633915, 23.29714285714286, 'gini = 0.0\\nsamples = 9\\nvalue = [0, 0, 0, 0, 0, 0, 0, 0, 0, 9]'),\n",
       " Text(178.80760697305865, 23.29714285714286, 'X[11] <= 9.5\\ngini = 0.5\\nsamples = 2\\nvalue = [0, 0, 1, 1, 0, 0, 0, 0, 0, 0]'),\n",
       " Text(176.68526148969892, 7.765714285714267, 'gini = 0.0\\nsamples = 1\\nvalue = [0, 0, 1, 0, 0, 0, 0, 0, 0, 0]'),\n",
       " Text(180.9299524564184, 7.765714285714267, 'gini = 0.0\\nsamples = 1\\nvalue = [0, 0, 0, 1, 0, 0, 0, 0, 0, 0]'),\n",
       " Text(185.1746434231379, 38.82857142857142, 'X[20] <= 13.5\\ngini = 0.48\\nsamples = 5\\nvalue = [0, 0, 0, 2, 0, 3, 0, 0, 0, 0]'),\n",
       " Text(183.05229793977816, 23.29714285714286, 'gini = 0.0\\nsamples = 3\\nvalue = [0, 0, 0, 0, 0, 3, 0, 0, 0, 0]'),\n",
       " Text(187.29698890649763, 23.29714285714286, 'gini = 0.0\\nsamples = 2\\nvalue = [0, 0, 0, 2, 0, 0, 0, 0, 0, 0]'),\n",
       " Text(191.54167987321713, 54.359999999999985, 'X[46] <= 1.0\\ngini = 0.18\\nsamples = 10\\nvalue = [0, 0, 0, 9, 0, 0, 0, 0, 0, 1]'),\n",
       " Text(189.4193343898574, 38.82857142857142, 'gini = 0.0\\nsamples = 1\\nvalue = [0, 0, 0, 0, 0, 0, 0, 0, 0, 1]'),\n",
       " Text(193.66402535657687, 38.82857142857142, 'gini = 0.0\\nsamples = 9\\nvalue = [0, 0, 0, 9, 0, 0, 0, 0, 0, 0]'),\n",
       " Text(192.60285261489702, 85.42285714285714, 'X[6] <= 7.5\\ngini = 0.165\\nsamples = 11\\nvalue = [0, 0, 0, 0, 0, 1, 0, 0, 10, 0]'),\n",
       " Text(190.48050713153725, 69.89142857142858, 'gini = 0.0\\nsamples = 10\\nvalue = [0, 0, 0, 0, 0, 0, 0, 0, 10, 0]'),\n",
       " Text(194.72519809825675, 69.89142857142858, 'gini = 0.0\\nsamples = 1\\nvalue = [0, 0, 0, 0, 0, 1, 0, 0, 0, 0]'),\n",
       " Text(206.39809825673535, 100.9542857142857, 'X[3] <= 0.5\\ngini = 0.27\\nsamples = 66\\nvalue = [0, 6, 0, 0, 0, 1, 0, 1, 2, 56]'),\n",
       " Text(201.092234548336, 85.42285714285714, 'X[27] <= 13.5\\ngini = 0.408\\nsamples = 7\\nvalue = [0, 5, 0, 0, 0, 0, 0, 0, 0, 2]'),\n",
       " Text(198.96988906497626, 69.89142857142858, 'gini = 0.0\\nsamples = 5\\nvalue = [0, 5, 0, 0, 0, 0, 0, 0, 0, 0]'),\n",
       " Text(203.21458003169573, 69.89142857142858, 'gini = 0.0\\nsamples = 2\\nvalue = [0, 0, 0, 0, 0, 0, 0, 0, 0, 2]'),\n",
       " Text(211.7039619651347, 85.42285714285714, 'X[21] <= 10.5\\ngini = 0.16\\nsamples = 59\\nvalue = [0, 1, 0, 0, 0, 1, 0, 1, 2, 54]'),\n",
       " Text(207.45927099841523, 69.89142857142858, 'X[19] <= 5.0\\ngini = 0.722\\nsamples = 6\\nvalue = [0, 0, 0, 0, 0, 1, 0, 1, 2, 2]'),\n",
       " Text(205.33692551505547, 54.359999999999985, 'gini = 0.0\\nsamples = 2\\nvalue = [0, 0, 0, 0, 0, 0, 0, 0, 2, 0]'),\n",
       " Text(209.58161648177497, 54.359999999999985, 'X[21] <= 5.5\\ngini = 0.625\\nsamples = 4\\nvalue = [0, 0, 0, 0, 0, 1, 0, 1, 0, 2]'),\n",
       " Text(207.45927099841523, 38.82857142857142, 'X[14] <= 9.0\\ngini = 0.5\\nsamples = 2\\nvalue = [0, 0, 0, 0, 0, 1, 0, 1, 0, 0]'),\n",
       " Text(205.33692551505547, 23.29714285714286, 'gini = 0.0\\nsamples = 1\\nvalue = [0, 0, 0, 0, 0, 1, 0, 0, 0, 0]'),\n",
       " Text(209.58161648177497, 23.29714285714286, 'gini = 0.0\\nsamples = 1\\nvalue = [0, 0, 0, 0, 0, 0, 0, 1, 0, 0]'),\n",
       " Text(211.7039619651347, 38.82857142857142, 'gini = 0.0\\nsamples = 2\\nvalue = [0, 0, 0, 0, 0, 0, 0, 0, 0, 2]'),\n",
       " Text(215.9486529318542, 69.89142857142858, 'X[27] <= 0.5\\ngini = 0.037\\nsamples = 53\\nvalue = [0, 1, 0, 0, 0, 0, 0, 0, 0, 52]'),\n",
       " Text(213.82630744849448, 54.359999999999985, 'gini = 0.0\\nsamples = 1\\nvalue = [0, 1, 0, 0, 0, 0, 0, 0, 0, 0]'),\n",
       " Text(218.07099841521395, 54.359999999999985, 'gini = 0.0\\nsamples = 52\\nvalue = [0, 0, 0, 0, 0, 0, 0, 0, 0, 52]'),\n",
       " Text(258.39556259904913, 132.01714285714286, 'X[27] <= 8.5\\ngini = 0.736\\nsamples = 298\\nvalue = [2, 73, 88, 14, 3, 0, 0, 10, 100, 8]'),\n",
       " Text(236.11093502377182, 116.48571428571428, 'X[34] <= 5.5\\ngini = 0.414\\nsamples = 103\\nvalue = [1, 3, 78, 3, 1, 0, 0, 7, 8, 2]'),\n",
       " Text(230.80507131537243, 100.9542857142857, 'X[50] <= 0.5\\ngini = 0.213\\nsamples = 87\\nvalue = [0, 3, 77, 3, 0, 0, 0, 3, 1, 0]'),\n",
       " Text(226.56038034865296, 85.42285714285714, 'X[22] <= 1.5\\ngini = 0.688\\nsamples = 8\\nvalue = [0, 3, 1, 1, 0, 0, 0, 3, 0, 0]'),\n",
       " Text(224.4380348652932, 69.89142857142858, 'X[19] <= 6.0\\ngini = 0.56\\nsamples = 5\\nvalue = [0, 3, 1, 1, 0, 0, 0, 0, 0, 0]'),\n",
       " Text(222.31568938193345, 54.359999999999985, 'X[61] <= 6.0\\ngini = 0.5\\nsamples = 2\\nvalue = [0, 0, 1, 1, 0, 0, 0, 0, 0, 0]'),\n",
       " Text(220.19334389857372, 38.82857142857142, 'gini = 0.0\\nsamples = 1\\nvalue = [0, 0, 0, 1, 0, 0, 0, 0, 0, 0]'),\n",
       " Text(224.4380348652932, 38.82857142857142, 'gini = 0.0\\nsamples = 1\\nvalue = [0, 0, 1, 0, 0, 0, 0, 0, 0, 0]'),\n",
       " Text(226.56038034865296, 54.359999999999985, 'gini = 0.0\\nsamples = 3\\nvalue = [0, 3, 0, 0, 0, 0, 0, 0, 0, 0]'),\n",
       " Text(228.6827258320127, 69.89142857142858, 'gini = 0.0\\nsamples = 3\\nvalue = [0, 0, 0, 0, 0, 0, 0, 3, 0, 0]'),\n",
       " Text(235.04976228209193, 85.42285714285714, 'X[45] <= 11.0\\ngini = 0.074\\nsamples = 79\\nvalue = [0, 0, 76, 2, 0, 0, 0, 0, 1, 0]'),\n",
       " Text(232.9274167987322, 69.89142857142858, 'gini = 0.0\\nsamples = 75\\nvalue = [0, 0, 75, 0, 0, 0, 0, 0, 0, 0]'),\n",
       " Text(237.17210776545167, 69.89142857142858, 'X[19] <= 1.0\\ngini = 0.625\\nsamples = 4\\nvalue = [0, 0, 1, 2, 0, 0, 0, 0, 1, 0]'),\n",
       " Text(235.04976228209193, 54.359999999999985, 'X[22] <= 4.0\\ngini = 0.5\\nsamples = 2\\nvalue = [0, 0, 1, 0, 0, 0, 0, 0, 1, 0]'),\n",
       " Text(232.9274167987322, 38.82857142857142, 'gini = 0.0\\nsamples = 1\\nvalue = [0, 0, 1, 0, 0, 0, 0, 0, 0, 0]'),\n",
       " Text(237.17210776545167, 38.82857142857142, 'gini = 0.0\\nsamples = 1\\nvalue = [0, 0, 0, 0, 0, 0, 0, 0, 1, 0]'),\n",
       " Text(239.29445324881144, 54.359999999999985, 'gini = 0.0\\nsamples = 2\\nvalue = [0, 0, 0, 2, 0, 0, 0, 0, 0, 0]'),\n",
       " Text(241.41679873217117, 100.9542857142857, 'X[37] <= 10.5\\ngini = 0.719\\nsamples = 16\\nvalue = [1, 0, 1, 0, 1, 0, 0, 4, 7, 2]'),\n",
       " Text(239.29445324881144, 85.42285714285714, 'gini = 0.0\\nsamples = 7\\nvalue = [0, 0, 0, 0, 0, 0, 0, 0, 7, 0]'),\n",
       " Text(243.5391442155309, 85.42285714285714, 'X[60] <= 9.5\\ngini = 0.716\\nsamples = 9\\nvalue = [1, 0, 1, 0, 1, 0, 0, 4, 0, 2]'),\n",
       " Text(241.41679873217117, 69.89142857142858, 'gini = 0.0\\nsamples = 4\\nvalue = [0, 0, 0, 0, 0, 0, 0, 4, 0, 0]'),\n",
       " Text(245.66148969889068, 69.89142857142858, 'X[19] <= 4.5\\ngini = 0.72\\nsamples = 5\\nvalue = [1, 0, 1, 0, 1, 0, 0, 0, 0, 2]'),\n",
       " Text(243.5391442155309, 54.359999999999985, 'gini = 0.0\\nsamples = 2\\nvalue = [0, 0, 0, 0, 0, 0, 0, 0, 0, 2]'),\n",
       " Text(247.7838351822504, 54.359999999999985, 'X[60] <= 10.5\\ngini = 0.667\\nsamples = 3\\nvalue = [1, 0, 1, 0, 1, 0, 0, 0, 0, 0]'),\n",
       " Text(245.66148969889068, 38.82857142857142, 'gini = 0.0\\nsamples = 1\\nvalue = [1, 0, 0, 0, 0, 0, 0, 0, 0, 0]'),\n",
       " Text(249.90618066561015, 38.82857142857142, 'X[60] <= 13.5\\ngini = 0.5\\nsamples = 2\\nvalue = [0, 0, 1, 0, 1, 0, 0, 0, 0, 0]'),\n",
       " Text(247.7838351822504, 23.29714285714286, 'gini = 0.0\\nsamples = 1\\nvalue = [0, 0, 1, 0, 0, 0, 0, 0, 0, 0]'),\n",
       " Text(252.02852614896992, 23.29714285714286, 'gini = 0.0\\nsamples = 1\\nvalue = [0, 0, 0, 0, 1, 0, 0, 0, 0, 0]'),\n",
       " Text(280.68019017432647, 116.48571428571428, 'X[20] <= 13.5\\ngini = 0.641\\nsamples = 195\\nvalue = [1, 70, 10, 11, 2, 0, 0, 3, 92, 6]'),\n",
       " Text(270.06846275752775, 100.9542857142857, 'X[30] <= 5.5\\ngini = 0.242\\nsamples = 91\\nvalue = [1, 0, 1, 2, 0, 0, 0, 3, 79, 5]'),\n",
       " Text(262.64025356576866, 85.42285714285714, 'X[50] <= 2.5\\ngini = 0.136\\nsamples = 84\\nvalue = [0, 0, 1, 2, 0, 0, 0, 0, 78, 3]'),\n",
       " Text(258.39556259904913, 69.89142857142858, 'X[51] <= 10.5\\ngini = 0.512\\nsamples = 11\\nvalue = [0, 0, 0, 1, 0, 0, 0, 0, 7, 3]'),\n",
       " Text(256.2732171156894, 54.359999999999985, 'X[26] <= 4.5\\ngini = 0.375\\nsamples = 4\\nvalue = [0, 0, 0, 1, 0, 0, 0, 0, 0, 3]'),\n",
       " Text(254.15087163232965, 38.82857142857142, 'gini = 0.0\\nsamples = 1\\nvalue = [0, 0, 0, 1, 0, 0, 0, 0, 0, 0]'),\n",
       " Text(258.39556259904913, 38.82857142857142, 'gini = 0.0\\nsamples = 3\\nvalue = [0, 0, 0, 0, 0, 0, 0, 0, 0, 3]'),\n",
       " Text(260.5179080824089, 54.359999999999985, 'gini = 0.0\\nsamples = 7\\nvalue = [0, 0, 0, 0, 0, 0, 0, 0, 7, 0]'),\n",
       " Text(266.88494453248813, 69.89142857142858, 'X[2] <= 14.5\\ngini = 0.054\\nsamples = 73\\nvalue = [0, 0, 1, 1, 0, 0, 0, 0, 71, 0]'),\n",
       " Text(264.76259904912837, 54.359999999999985, 'X[36] <= 5.0\\ngini = 0.027\\nsamples = 72\\nvalue = [0, 0, 1, 0, 0, 0, 0, 0, 71, 0]'),\n",
       " Text(262.64025356576866, 38.82857142857142, 'X[53] <= 6.5\\ngini = 0.444\\nsamples = 3\\nvalue = [0, 0, 1, 0, 0, 0, 0, 0, 2, 0]'),\n",
       " Text(260.5179080824089, 23.29714285714286, 'gini = 0.0\\nsamples = 2\\nvalue = [0, 0, 0, 0, 0, 0, 0, 0, 2, 0]'),\n",
       " Text(264.76259904912837, 23.29714285714286, 'gini = 0.0\\nsamples = 1\\nvalue = [0, 0, 1, 0, 0, 0, 0, 0, 0, 0]'),\n",
       " Text(266.88494453248813, 38.82857142857142, 'gini = 0.0\\nsamples = 69\\nvalue = [0, 0, 0, 0, 0, 0, 0, 0, 69, 0]'),\n",
       " Text(269.0072900158479, 54.359999999999985, 'gini = 0.0\\nsamples = 1\\nvalue = [0, 0, 0, 1, 0, 0, 0, 0, 0, 0]'),\n",
       " Text(277.49667194928685, 85.42285714285714, 'X[5] <= 13.5\\ngini = 0.694\\nsamples = 7\\nvalue = [1, 0, 0, 0, 0, 0, 0, 3, 1, 2]'),\n",
       " Text(275.37432646592714, 69.89142857142858, 'X[11] <= 10.5\\ngini = 0.625\\nsamples = 4\\nvalue = [1, 0, 0, 0, 0, 0, 0, 0, 1, 2]'),\n",
       " Text(273.2519809825674, 54.359999999999985, 'gini = 0.0\\nsamples = 2\\nvalue = [0, 0, 0, 0, 0, 0, 0, 0, 0, 2]'),\n",
       " Text(277.49667194928685, 54.359999999999985, 'X[52] <= 9.5\\ngini = 0.5\\nsamples = 2\\nvalue = [1, 0, 0, 0, 0, 0, 0, 0, 1, 0]'),\n",
       " Text(275.37432646592714, 38.82857142857142, 'gini = 0.0\\nsamples = 1\\nvalue = [0, 0, 0, 0, 0, 0, 0, 0, 1, 0]'),\n",
       " Text(279.6190174326466, 38.82857142857142, 'gini = 0.0\\nsamples = 1\\nvalue = [1, 0, 0, 0, 0, 0, 0, 0, 0, 0]'),\n",
       " Text(279.6190174326466, 69.89142857142858, 'gini = 0.0\\nsamples = 3\\nvalue = [0, 0, 0, 0, 0, 0, 0, 3, 0, 0]'),\n",
       " Text(291.29191759112524, 100.9542857142857, 'X[10] <= 10.5\\ngini = 0.516\\nsamples = 104\\nvalue = [0, 70, 9, 9, 2, 0, 0, 0, 13, 1]'),\n",
       " Text(285.98605388272586, 85.42285714285714, 'X[41] <= 7.5\\ngini = 0.179\\nsamples = 73\\nvalue = [0, 66, 0, 2, 2, 0, 0, 0, 3, 0]'),\n",
       " Text(283.8637083993661, 69.89142857142858, 'X[12] <= 12.5\\ngini = 0.133\\nsamples = 71\\nvalue = [0, 66, 0, 2, 0, 0, 0, 0, 3, 0]'),\n",
       " Text(281.7413629160064, 54.359999999999985, 'gini = 0.0\\nsamples = 2\\nvalue = [0, 0, 0, 2, 0, 0, 0, 0, 0, 0]'),\n",
       " Text(285.98605388272586, 54.359999999999985, 'X[28] <= 8.0\\ngini = 0.083\\nsamples = 69\\nvalue = [0, 66, 0, 0, 0, 0, 0, 0, 3, 0]'),\n",
       " Text(283.8637083993661, 38.82857142857142, 'gini = 0.0\\nsamples = 2\\nvalue = [0, 0, 0, 0, 0, 0, 0, 0, 2, 0]'),\n",
       " Text(288.1083993660856, 38.82857142857142, 'X[52] <= 9.0\\ngini = 0.029\\nsamples = 67\\nvalue = [0, 66, 0, 0, 0, 0, 0, 0, 1, 0]'),\n",
       " Text(285.98605388272586, 23.29714285714286, 'X[59] <= 13.5\\ngini = 0.444\\nsamples = 3\\nvalue = [0, 2, 0, 0, 0, 0, 0, 0, 1, 0]'),\n",
       " Text(283.8637083993661, 7.765714285714267, 'gini = 0.0\\nsamples = 2\\nvalue = [0, 2, 0, 0, 0, 0, 0, 0, 0, 0]'),\n",
       " Text(288.1083993660856, 7.765714285714267, 'gini = 0.0\\nsamples = 1\\nvalue = [0, 0, 0, 0, 0, 0, 0, 0, 1, 0]'),\n",
       " Text(290.23074484944533, 23.29714285714286, 'gini = 0.0\\nsamples = 64\\nvalue = [0, 64, 0, 0, 0, 0, 0, 0, 0, 0]'),\n",
       " Text(288.1083993660856, 69.89142857142858, 'gini = 0.0\\nsamples = 2\\nvalue = [0, 0, 0, 0, 2, 0, 0, 0, 0, 0]'),\n",
       " Text(296.59778129952457, 85.42285714285714, 'X[50] <= 5.5\\ngini = 0.743\\nsamples = 31\\nvalue = [0, 4, 9, 7, 0, 0, 0, 0, 10, 1]'),\n",
       " Text(294.47543581616486, 69.89142857142858, 'gini = 0.0\\nsamples = 7\\nvalue = [0, 0, 0, 7, 0, 0, 0, 0, 0, 0]'),\n",
       " Text(298.72012678288434, 69.89142857142858, 'X[44] <= 7.0\\ngini = 0.656\\nsamples = 24\\nvalue = [0, 4, 9, 0, 0, 0, 0, 0, 10, 1]'),\n",
       " Text(294.47543581616486, 54.359999999999985, 'X[28] <= 15.5\\ngini = 0.314\\nsamples = 11\\nvalue = [0, 0, 9, 0, 0, 0, 0, 0, 1, 1]'),\n",
       " Text(292.3530903328051, 38.82857142857142, 'gini = 0.0\\nsamples = 9\\nvalue = [0, 0, 9, 0, 0, 0, 0, 0, 0, 0]'),\n",
       " Text(296.59778129952457, 38.82857142857142, 'X[11] <= 11.5\\ngini = 0.5\\nsamples = 2\\nvalue = [0, 0, 0, 0, 0, 0, 0, 0, 1, 1]'),\n",
       " Text(294.47543581616486, 23.29714285714286, 'gini = 0.0\\nsamples = 1\\nvalue = [0, 0, 0, 0, 0, 0, 0, 0, 1, 0]'),\n",
       " Text(298.72012678288434, 23.29714285714286, 'gini = 0.0\\nsamples = 1\\nvalue = [0, 0, 0, 0, 0, 0, 0, 0, 0, 1]'),\n",
       " Text(302.9648177496038, 54.359999999999985, 'X[43] <= 15.0\\ngini = 0.426\\nsamples = 13\\nvalue = [0, 4, 0, 0, 0, 0, 0, 0, 9, 0]'),\n",
       " Text(300.8424722662441, 38.82857142857142, 'gini = 0.0\\nsamples = 8\\nvalue = [0, 0, 0, 0, 0, 0, 0, 0, 8, 0]'),\n",
       " Text(305.0871632329636, 38.82857142857142, 'X[18] <= 6.5\\ngini = 0.32\\nsamples = 5\\nvalue = [0, 4, 0, 0, 0, 0, 0, 0, 1, 0]'),\n",
       " Text(302.9648177496038, 23.29714285714286, 'gini = 0.0\\nsamples = 1\\nvalue = [0, 0, 0, 0, 0, 0, 0, 0, 1, 0]'),\n",
       " Text(307.20950871632334, 23.29714285714286, 'gini = 0.0\\nsamples = 4\\nvalue = [0, 4, 0, 0, 0, 0, 0, 0, 0, 0]'),\n",
       " Text(317.82123613312206, 147.54857142857142, 'X[13] <= 9.5\\ngini = 0.393\\nsamples = 121\\nvalue = [2, 14, 0, 1, 93, 0, 2, 5, 3, 1]'),\n",
       " Text(309.33185419968305, 132.01714285714286, 'X[10] <= 10.5\\ngini = 0.103\\nsamples = 93\\nvalue = [0, 3, 0, 0, 88, 0, 1, 0, 0, 1]'),\n",
       " Text(305.0871632329636, 116.48571428571428, 'X[5] <= 12.5\\ngini = 0.044\\nsamples = 90\\nvalue = [0, 1, 0, 0, 88, 0, 0, 0, 0, 1]'),\n",
       " Text(302.9648177496038, 100.9542857142857, 'X[37] <= 3.5\\ngini = 0.022\\nsamples = 89\\nvalue = [0, 1, 0, 0, 88, 0, 0, 0, 0, 0]'),\n",
       " Text(300.8424722662441, 85.42285714285714, 'gini = 0.0\\nsamples = 1\\nvalue = [0, 1, 0, 0, 0, 0, 0, 0, 0, 0]'),\n",
       " Text(305.0871632329636, 85.42285714285714, 'gini = 0.0\\nsamples = 88\\nvalue = [0, 0, 0, 0, 88, 0, 0, 0, 0, 0]'),\n",
       " Text(307.20950871632334, 100.9542857142857, 'gini = 0.0\\nsamples = 1\\nvalue = [0, 0, 0, 0, 0, 0, 0, 0, 0, 1]'),\n",
       " Text(313.5765451664026, 116.48571428571428, 'X[51] <= 11.5\\ngini = 0.444\\nsamples = 3\\nvalue = [0, 2, 0, 0, 0, 0, 1, 0, 0, 0]'),\n",
       " Text(311.4541996830428, 100.9542857142857, 'gini = 0.0\\nsamples = 1\\nvalue = [0, 0, 0, 0, 0, 0, 1, 0, 0, 0]'),\n",
       " Text(315.6988906497623, 100.9542857142857, 'gini = 0.0\\nsamples = 2\\nvalue = [0, 2, 0, 0, 0, 0, 0, 0, 0, 0]'),\n",
       " Text(326.31061806656106, 132.01714285714286, 'X[27] <= 14.0\\ngini = 0.763\\nsamples = 28\\nvalue = [2, 11, 0, 1, 5, 0, 1, 5, 3, 0]'),\n",
       " Text(322.06592709984153, 116.48571428571428, 'X[59] <= 7.5\\ngini = 0.747\\nsamples = 15\\nvalue = [2, 0, 0, 1, 5, 0, 1, 5, 1, 0]'),\n",
       " Text(319.9435816164818, 100.9542857142857, 'gini = 0.0\\nsamples = 5\\nvalue = [0, 0, 0, 0, 5, 0, 0, 0, 0, 0]'),\n",
       " Text(324.1882725832013, 100.9542857142857, 'X[51] <= 10.0\\ngini = 0.68\\nsamples = 10\\nvalue = [2, 0, 0, 1, 0, 0, 1, 5, 1, 0]'),\n",
       " Text(322.06592709984153, 85.42285714285714, 'gini = 0.0\\nsamples = 5\\nvalue = [0, 0, 0, 0, 0, 0, 0, 5, 0, 0]'),\n",
       " Text(326.31061806656106, 85.42285714285714, 'X[45] <= 11.5\\ngini = 0.72\\nsamples = 5\\nvalue = [2, 0, 0, 1, 0, 0, 1, 0, 1, 0]'),\n",
       " Text(324.1882725832013, 69.89142857142858, 'X[59] <= 9.0\\ngini = 0.667\\nsamples = 3\\nvalue = [0, 0, 0, 1, 0, 0, 1, 0, 1, 0]'),\n",
       " Text(322.06592709984153, 54.359999999999985, 'gini = 0.0\\nsamples = 1\\nvalue = [0, 0, 0, 0, 0, 0, 1, 0, 0, 0]'),\n",
       " Text(326.31061806656106, 54.359999999999985, 'X[55] <= 0.5\\ngini = 0.5\\nsamples = 2\\nvalue = [0, 0, 0, 1, 0, 0, 0, 0, 1, 0]'),\n",
       " Text(324.1882725832013, 38.82857142857142, 'gini = 0.0\\nsamples = 1\\nvalue = [0, 0, 0, 0, 0, 0, 0, 0, 1, 0]'),\n",
       " Text(328.43296354992077, 38.82857142857142, 'gini = 0.0\\nsamples = 1\\nvalue = [0, 0, 0, 1, 0, 0, 0, 0, 0, 0]'),\n",
       " Text(328.43296354992077, 69.89142857142858, 'gini = 0.0\\nsamples = 2\\nvalue = [2, 0, 0, 0, 0, 0, 0, 0, 0, 0]'),\n",
       " Text(330.55530903328054, 116.48571428571428, 'X[12] <= 11.0\\ngini = 0.26\\nsamples = 13\\nvalue = [0, 11, 0, 0, 0, 0, 0, 0, 2, 0]'),\n",
       " Text(328.43296354992077, 100.9542857142857, 'gini = 0.0\\nsamples = 2\\nvalue = [0, 0, 0, 0, 0, 0, 0, 0, 2, 0]'),\n",
       " Text(332.6776545166403, 100.9542857142857, 'gini = 0.0\\nsamples = 11\\nvalue = [0, 11, 0, 0, 0, 0, 0, 0, 0, 0]')]"
      ]
     },
     "execution_count": 8,
     "metadata": {},
     "output_type": "execute_result"
    },
    {
     "data": {
      "image/png": "[encoded data removed]",
      "text/plain": [
       "<Figure size 432x288 with 1 Axes>"
      ]
     },
     "metadata": {
      "needs_background": "light"
     },
     "output_type": "display_data"
    }
   ],
   "source": [
    "tree.plot_tree(decisiontreeclassifier) "
   ]
  },
  {
   "cell_type": "code",
   "execution_count": null,
   "metadata": {},
   "outputs": [],
   "source": []
  }
 ],
 "metadata": {
  "colab": {
   "name": "Scikit-Learn Logistic Regression.ipynb",
   "provenance": []
  },
  "kernelspec": {
   "display_name": "Python 3",
   "language": "python",
   "name": "python3"
  },
  "language_info": {
   "codemirror_mode": {
    "name": "ipython",
    "version": 3
   },
   "file_extension": ".py",
   "mimetype": "text/x-python",
   "name": "python",
   "nbconvert_exporter": "python",
   "pygments_lexer": "ipython3",
   "version": "3.7.4"
  }
 },
 "nbformat": 4,
 "nbformat_minor": 1
}
